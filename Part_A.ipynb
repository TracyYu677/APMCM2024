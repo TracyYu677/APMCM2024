{
 "cells": [
  {
   "cell_type": "code",
   "execution_count": 46,
   "metadata": {},
   "outputs": [
    {
     "name": "stdout",
     "output_type": "stream",
     "text": [
      "Processing ./kaiwu-1.0.3-py3-none-any.whl\n",
      "Requirement already satisfied: pyjwt[crypto]==2.7.0 in /Library/Frameworks/Python.framework/Versions/3.8/lib/python3.8/site-packages (from kaiwu==1.0.3) (2.7.0)\n",
      "Requirement already satisfied: Deprecated==1.2.14 in /Library/Frameworks/Python.framework/Versions/3.8/lib/python3.8/site-packages (from kaiwu==1.0.3) (1.2.14)\n",
      "Requirement already satisfied: portion==2.4.1 in /Library/Frameworks/Python.framework/Versions/3.8/lib/python3.8/site-packages (from kaiwu==1.0.3) (2.4.1)\n",
      "Requirement already satisfied: matplotlib==3.7.3 in /Library/Frameworks/Python.framework/Versions/3.8/lib/python3.8/site-packages (from kaiwu==1.0.3) (3.7.3)\n",
      "Requirement already satisfied: pandas==1.3.3 in /Library/Frameworks/Python.framework/Versions/3.8/lib/python3.8/site-packages (from kaiwu==1.0.3) (1.3.3)\n",
      "Requirement already satisfied: requests==2.31.0 in /Library/Frameworks/Python.framework/Versions/3.8/lib/python3.8/site-packages (from kaiwu==1.0.3) (2.31.0)\n",
      "Requirement already satisfied: numpy==1.22.2 in /Library/Frameworks/Python.framework/Versions/3.8/lib/python3.8/site-packages (from kaiwu==1.0.3) (1.22.2)\n",
      "Requirement already satisfied: wrapt<2,>=1.10 in /Library/Frameworks/Python.framework/Versions/3.8/lib/python3.8/site-packages (from Deprecated==1.2.14->kaiwu==1.0.3) (1.16.0)\n",
      "Requirement already satisfied: packaging>=20.0 in /Users/ethancarlson/Library/Python/3.8/lib/python/site-packages (from matplotlib==3.7.3->kaiwu==1.0.3) (24.2)\n",
      "Requirement already satisfied: importlib-resources>=3.2.0 in /Library/Frameworks/Python.framework/Versions/3.8/lib/python3.8/site-packages (from matplotlib==3.7.3->kaiwu==1.0.3) (6.4.5)\n",
      "Requirement already satisfied: contourpy>=1.0.1 in /Library/Frameworks/Python.framework/Versions/3.8/lib/python3.8/site-packages (from matplotlib==3.7.3->kaiwu==1.0.3) (1.1.1)\n",
      "Requirement already satisfied: fonttools>=4.22.0 in /Library/Frameworks/Python.framework/Versions/3.8/lib/python3.8/site-packages (from matplotlib==3.7.3->kaiwu==1.0.3) (4.55.0)\n",
      "Requirement already satisfied: cycler>=0.10 in /Library/Frameworks/Python.framework/Versions/3.8/lib/python3.8/site-packages (from matplotlib==3.7.3->kaiwu==1.0.3) (0.12.1)\n",
      "Requirement already satisfied: pillow>=6.2.0 in /Library/Frameworks/Python.framework/Versions/3.8/lib/python3.8/site-packages (from matplotlib==3.7.3->kaiwu==1.0.3) (10.4.0)\n",
      "Requirement already satisfied: kiwisolver>=1.0.1 in /Library/Frameworks/Python.framework/Versions/3.8/lib/python3.8/site-packages (from matplotlib==3.7.3->kaiwu==1.0.3) (1.4.7)\n",
      "Requirement already satisfied: python-dateutil>=2.7 in /Users/ethancarlson/Library/Python/3.8/lib/python/site-packages (from matplotlib==3.7.3->kaiwu==1.0.3) (2.9.0.post0)\n",
      "Requirement already satisfied: pyparsing>=2.3.1 in /Library/Frameworks/Python.framework/Versions/3.8/lib/python3.8/site-packages (from matplotlib==3.7.3->kaiwu==1.0.3) (3.1.4)\n",
      "Requirement already satisfied: pytz>=2017.3 in /Library/Frameworks/Python.framework/Versions/3.8/lib/python3.8/site-packages (from pandas==1.3.3->kaiwu==1.0.3) (2024.2)\n",
      "Requirement already satisfied: sortedcontainers~=2.2 in /Library/Frameworks/Python.framework/Versions/3.8/lib/python3.8/site-packages (from portion==2.4.1->kaiwu==1.0.3) (2.4.0)\n",
      "Requirement already satisfied: cryptography>=3.4.0 in /Library/Frameworks/Python.framework/Versions/3.8/lib/python3.8/site-packages (from pyjwt[crypto]==2.7.0->kaiwu==1.0.3) (43.0.3)\n",
      "Requirement already satisfied: charset-normalizer<4,>=2 in /Library/Frameworks/Python.framework/Versions/3.8/lib/python3.8/site-packages (from requests==2.31.0->kaiwu==1.0.3) (3.4.0)\n",
      "Requirement already satisfied: certifi>=2017.4.17 in /Library/Frameworks/Python.framework/Versions/3.8/lib/python3.8/site-packages (from requests==2.31.0->kaiwu==1.0.3) (2024.8.30)\n",
      "Requirement already satisfied: urllib3<3,>=1.21.1 in /Library/Frameworks/Python.framework/Versions/3.8/lib/python3.8/site-packages (from requests==2.31.0->kaiwu==1.0.3) (2.2.3)\n",
      "Requirement already satisfied: idna<4,>=2.5 in /Library/Frameworks/Python.framework/Versions/3.8/lib/python3.8/site-packages (from requests==2.31.0->kaiwu==1.0.3) (3.10)\n",
      "Requirement already satisfied: cffi>=1.12 in /Library/Frameworks/Python.framework/Versions/3.8/lib/python3.8/site-packages (from cryptography>=3.4.0->pyjwt[crypto]==2.7.0->kaiwu==1.0.3) (1.17.1)\n",
      "Requirement already satisfied: pycparser in /Library/Frameworks/Python.framework/Versions/3.8/lib/python3.8/site-packages (from cffi>=1.12->cryptography>=3.4.0->pyjwt[crypto]==2.7.0->kaiwu==1.0.3) (2.22)\n",
      "Requirement already satisfied: zipp>=3.1.0 in /Users/ethancarlson/Library/Python/3.8/lib/python/site-packages (from importlib-resources>=3.2.0->matplotlib==3.7.3->kaiwu==1.0.3) (3.20.2)\n",
      "Requirement already satisfied: six>=1.5 in /Users/ethancarlson/Library/Python/3.8/lib/python/site-packages (from python-dateutil>=2.7->matplotlib==3.7.3->kaiwu==1.0.3) (1.16.0)\n",
      "kaiwu is already installed with the same version as the provided wheel. Use --force-reinstall to force an installation of the wheel.\n",
      "\u001b[33mWARNING: You are using pip version 21.1.1; however, version 24.3.1 is available.\n",
      "You should consider upgrading via the '/usr/local/bin/python3 -m pip install --upgrade pip' command.\u001b[0m\n",
      "Note: you may need to restart the kernel to use updated packages.\n",
      "Requirement already satisfied: sklearn in /Library/Frameworks/Python.framework/Versions/3.8/lib/python3.8/site-packages (0.0)\n",
      "Requirement already satisfied: scikit-learn in /Library/Frameworks/Python.framework/Versions/3.8/lib/python3.8/site-packages (from sklearn) (1.3.2)\n",
      "Requirement already satisfied: threadpoolctl>=2.0.0 in /Library/Frameworks/Python.framework/Versions/3.8/lib/python3.8/site-packages (from scikit-learn->sklearn) (3.5.0)\n",
      "Requirement already satisfied: scipy>=1.5.0 in /Library/Frameworks/Python.framework/Versions/3.8/lib/python3.8/site-packages (from scikit-learn->sklearn) (1.10.1)\n",
      "Requirement already satisfied: joblib>=1.1.1 in /Library/Frameworks/Python.framework/Versions/3.8/lib/python3.8/site-packages (from scikit-learn->sklearn) (1.4.2)\n",
      "Requirement already satisfied: numpy<2.0,>=1.17.3 in /Library/Frameworks/Python.framework/Versions/3.8/lib/python3.8/site-packages (from scikit-learn->sklearn) (1.22.2)\n",
      "\u001b[33mWARNING: You are using pip version 21.1.1; however, version 24.3.1 is available.\n",
      "You should consider upgrading via the '/usr/local/bin/python3 -m pip install --upgrade pip' command.\u001b[0m\n",
      "Note: you may need to restart the kernel to use updated packages.\n",
      "Requirement already satisfied: pyqubo in /Library/Frameworks/Python.framework/Versions/3.8/lib/python3.8/site-packages (1.5.0)\n",
      "Requirement already satisfied: numpy>=1.17.3 in /Library/Frameworks/Python.framework/Versions/3.8/lib/python3.8/site-packages (from pyqubo) (1.22.2)\n",
      "Requirement already satisfied: dimod<0.13,>=0.9.14 in /Library/Frameworks/Python.framework/Versions/3.8/lib/python3.8/site-packages (from pyqubo) (0.12.17)\n",
      "Requirement already satisfied: dwave-neal>=0.5.7 in /Library/Frameworks/Python.framework/Versions/3.8/lib/python3.8/site-packages (from pyqubo) (0.6.0)\n",
      "Requirement already satisfied: six>=1.15.0 in /Users/ethancarlson/Library/Python/3.8/lib/python/site-packages (from pyqubo) (1.16.0)\n",
      "Requirement already satisfied: Deprecated>=1.2.12 in /Library/Frameworks/Python.framework/Versions/3.8/lib/python3.8/site-packages (from pyqubo) (1.2.14)\n",
      "Requirement already satisfied: wrapt<2,>=1.10 in /Library/Frameworks/Python.framework/Versions/3.8/lib/python3.8/site-packages (from Deprecated>=1.2.12->pyqubo) (1.16.0)\n",
      "Requirement already satisfied: dwave-samplers<2.0.0,>=1.0.0 in /Library/Frameworks/Python.framework/Versions/3.8/lib/python3.8/site-packages (from dwave-neal>=0.5.7->pyqubo) (1.3.0)\n",
      "Requirement already satisfied: networkx>=3.0 in /Library/Frameworks/Python.framework/Versions/3.8/lib/python3.8/site-packages (from dwave-samplers<2.0.0,>=1.0.0->dwave-neal>=0.5.7->pyqubo) (3.1)\n",
      "\u001b[33mWARNING: You are using pip version 21.1.1; however, version 24.3.1 is available.\n",
      "You should consider upgrading via the '/usr/local/bin/python3 -m pip install --upgrade pip' command.\u001b[0m\n",
      "Note: you may need to restart the kernel to use updated packages.\n",
      "Requirement already satisfied: dwave.system in /Library/Frameworks/Python.framework/Versions/3.8/lib/python3.8/site-packages (1.27.0)\n",
      "Requirement already satisfied: dwave-cloud-client<0.14.0,>=0.12.0 in /Library/Frameworks/Python.framework/Versions/3.8/lib/python3.8/site-packages (from dwave.system) (0.13.1)\n",
      "Requirement already satisfied: dimod<0.14.0,>=0.12.7 in /Library/Frameworks/Python.framework/Versions/3.8/lib/python3.8/site-packages (from dwave.system) (0.12.17)\n",
      "Requirement already satisfied: scipy>=1.7.3 in /Library/Frameworks/Python.framework/Versions/3.8/lib/python3.8/site-packages (from dwave.system) (1.10.1)\n",
      "Requirement already satisfied: homebase<2.0.0,>=1.0.0 in /Library/Frameworks/Python.framework/Versions/3.8/lib/python3.8/site-packages (from dwave.system) (1.0.1)\n",
      "Requirement already satisfied: numpy>=1.21.6 in /Library/Frameworks/Python.framework/Versions/3.8/lib/python3.8/site-packages (from dwave.system) (1.22.2)\n",
      "Requirement already satisfied: dwave-samplers>=1.0.0 in /Library/Frameworks/Python.framework/Versions/3.8/lib/python3.8/site-packages (from dwave.system) (1.3.0)\n",
      "Requirement already satisfied: dwave-networkx>=0.8.10 in /Library/Frameworks/Python.framework/Versions/3.8/lib/python3.8/site-packages (from dwave.system) (0.8.15)\n",
      "Requirement already satisfied: dwave-optimization<0.6,>=0.1.0 in /Library/Frameworks/Python.framework/Versions/3.8/lib/python3.8/site-packages (from dwave.system) (0.4.0)\n",
      "Requirement already satisfied: minorminer<0.3.0,>=0.2.8 in /Library/Frameworks/Python.framework/Versions/3.8/lib/python3.8/site-packages (from dwave.system) (0.2.15)\n",
      "Requirement already satisfied: dwave-preprocessing>=0.5.0 in /Library/Frameworks/Python.framework/Versions/3.8/lib/python3.8/site-packages (from dwave.system) (0.6.7)\n",
      "Requirement already satisfied: python-dateutil<3,>=2.7 in /Users/ethancarlson/Library/Python/3.8/lib/python/site-packages (from dwave-cloud-client<0.14.0,>=0.12.0->dwave.system) (2.9.0.post0)\n",
      "Requirement already satisfied: werkzeug<4,>=2.2 in /Library/Frameworks/Python.framework/Versions/3.8/lib/python3.8/site-packages (from dwave-cloud-client<0.14.0,>=0.12.0->dwave.system) (3.0.6)\n",
      "Requirement already satisfied: click<9,>=7.0 in /Library/Frameworks/Python.framework/Versions/3.8/lib/python3.8/site-packages (from dwave-cloud-client<0.14.0,>=0.12.0->dwave.system) (8.1.7)\n",
      "Requirement already satisfied: pydantic<3,>=2 in /Library/Frameworks/Python.framework/Versions/3.8/lib/python3.8/site-packages (from dwave-cloud-client<0.14.0,>=0.12.0->dwave.system) (2.10.1)\n",
      "Requirement already satisfied: typing-extensions<5,>=4.5.0 in /Users/ethancarlson/Library/Python/3.8/lib/python/site-packages (from dwave-cloud-client<0.14.0,>=0.12.0->dwave.system) (4.12.2)\n",
      "Requirement already satisfied: diskcache<6,>=5.2.1 in /Library/Frameworks/Python.framework/Versions/3.8/lib/python3.8/site-packages (from dwave-cloud-client<0.14.0,>=0.12.0->dwave.system) (5.6.3)\n",
      "Requirement already satisfied: urllib3<3,>=1.26 in /Library/Frameworks/Python.framework/Versions/3.8/lib/python3.8/site-packages (from dwave-cloud-client<0.14.0,>=0.12.0->dwave.system) (2.2.3)\n",
      "Requirement already satisfied: plucky<0.5,>=0.4.3 in /Library/Frameworks/Python.framework/Versions/3.8/lib/python3.8/site-packages (from dwave-cloud-client<0.14.0,>=0.12.0->dwave.system) (0.4.3)\n",
      "Requirement already satisfied: requests[socks]<3,>=2.25 in /Library/Frameworks/Python.framework/Versions/3.8/lib/python3.8/site-packages (from dwave-cloud-client<0.14.0,>=0.12.0->dwave.system) (2.31.0)\n",
      "Requirement already satisfied: importlib-metadata>=5.0.0 in /Users/ethancarlson/Library/Python/3.8/lib/python/site-packages (from dwave-cloud-client<0.14.0,>=0.12.0->dwave.system) (8.5.0)\n",
      "Requirement already satisfied: authlib<2,>=1.2 in /Library/Frameworks/Python.framework/Versions/3.8/lib/python3.8/site-packages (from dwave-cloud-client<0.14.0,>=0.12.0->dwave.system) (1.3.2)\n",
      "Requirement already satisfied: packaging>=19 in /Users/ethancarlson/Library/Python/3.8/lib/python/site-packages (from dwave-cloud-client<0.14.0,>=0.12.0->dwave.system) (24.2)\n",
      "Requirement already satisfied: orjson>=3.10 in /Library/Frameworks/Python.framework/Versions/3.8/lib/python3.8/site-packages (from dwave-cloud-client<0.14.0,>=0.12.0->dwave.system) (3.10.11)\n",
      "Requirement already satisfied: cryptography in /Library/Frameworks/Python.framework/Versions/3.8/lib/python3.8/site-packages (from authlib<2,>=1.2->dwave-cloud-client<0.14.0,>=0.12.0->dwave.system) (43.0.3)\n",
      "Requirement already satisfied: networkx>=2.4 in /Library/Frameworks/Python.framework/Versions/3.8/lib/python3.8/site-packages (from dwave-networkx>=0.8.10->dwave.system) (3.1)\n",
      "Requirement already satisfied: zipp>=3.20 in /Users/ethancarlson/Library/Python/3.8/lib/python/site-packages (from importlib-metadata>=5.0.0->dwave-cloud-client<0.14.0,>=0.12.0->dwave.system) (3.20.2)\n",
      "Requirement already satisfied: fasteners>=0.15 in /Library/Frameworks/Python.framework/Versions/3.8/lib/python3.8/site-packages (from minorminer<0.3.0,>=0.2.8->dwave.system) (0.19)\n",
      "Requirement already satisfied: annotated-types>=0.6.0 in /Library/Frameworks/Python.framework/Versions/3.8/lib/python3.8/site-packages (from pydantic<3,>=2->dwave-cloud-client<0.14.0,>=0.12.0->dwave.system) (0.7.0)\n",
      "Requirement already satisfied: pydantic-core==2.27.1 in /Library/Frameworks/Python.framework/Versions/3.8/lib/python3.8/site-packages (from pydantic<3,>=2->dwave-cloud-client<0.14.0,>=0.12.0->dwave.system) (2.27.1)\n",
      "Requirement already satisfied: six>=1.5 in /Users/ethancarlson/Library/Python/3.8/lib/python/site-packages (from python-dateutil<3,>=2.7->dwave-cloud-client<0.14.0,>=0.12.0->dwave.system) (1.16.0)\n",
      "Requirement already satisfied: certifi>=2017.4.17 in /Library/Frameworks/Python.framework/Versions/3.8/lib/python3.8/site-packages (from requests[socks]<3,>=2.25->dwave-cloud-client<0.14.0,>=0.12.0->dwave.system) (2024.8.30)\n",
      "Requirement already satisfied: idna<4,>=2.5 in /Library/Frameworks/Python.framework/Versions/3.8/lib/python3.8/site-packages (from requests[socks]<3,>=2.25->dwave-cloud-client<0.14.0,>=0.12.0->dwave.system) (3.10)\n",
      "Requirement already satisfied: charset-normalizer<4,>=2 in /Library/Frameworks/Python.framework/Versions/3.8/lib/python3.8/site-packages (from requests[socks]<3,>=2.25->dwave-cloud-client<0.14.0,>=0.12.0->dwave.system) (3.4.0)\n",
      "Requirement already satisfied: PySocks!=1.5.7,>=1.5.6 in /Library/Frameworks/Python.framework/Versions/3.8/lib/python3.8/site-packages (from requests[socks]<3,>=2.25->dwave-cloud-client<0.14.0,>=0.12.0->dwave.system) (1.7.1)\n",
      "Requirement already satisfied: MarkupSafe>=2.1.1 in /Library/Frameworks/Python.framework/Versions/3.8/lib/python3.8/site-packages (from werkzeug<4,>=2.2->dwave-cloud-client<0.14.0,>=0.12.0->dwave.system) (2.1.5)\n",
      "Requirement already satisfied: cffi>=1.12 in /Library/Frameworks/Python.framework/Versions/3.8/lib/python3.8/site-packages (from cryptography->authlib<2,>=1.2->dwave-cloud-client<0.14.0,>=0.12.0->dwave.system) (1.17.1)\n",
      "Requirement already satisfied: pycparser in /Library/Frameworks/Python.framework/Versions/3.8/lib/python3.8/site-packages (from cffi>=1.12->cryptography->authlib<2,>=1.2->dwave-cloud-client<0.14.0,>=0.12.0->dwave.system) (2.22)\n",
      "\u001b[33mWARNING: You are using pip version 21.1.1; however, version 24.3.1 is available.\n",
      "You should consider upgrading via the '/usr/local/bin/python3 -m pip install --upgrade pip' command.\u001b[0m\n",
      "Note: you may need to restart the kernel to use updated packages.\n",
      "Requirement already satisfied: scipy in /Library/Frameworks/Python.framework/Versions/3.8/lib/python3.8/site-packages (1.10.1)\n",
      "Requirement already satisfied: numpy<1.27.0,>=1.19.5 in /Library/Frameworks/Python.framework/Versions/3.8/lib/python3.8/site-packages (from scipy) (1.22.2)\n",
      "\u001b[33mWARNING: You are using pip version 21.1.1; however, version 24.3.1 is available.\n",
      "You should consider upgrading via the '/usr/local/bin/python3 -m pip install --upgrade pip' command.\u001b[0m\n",
      "Note: you may need to restart the kernel to use updated packages.\n"
     ]
    }
   ],
   "source": [
    "%pip install kaiwu-1.0.3-py3-none-any.whl\n",
    "%pip install sklearn\n",
    "%pip install pyqubo\n",
    "%pip install dwave.system\n",
    "%pip install scipy"
   ]
  },
  {
   "cell_type": "code",
   "execution_count": 47,
   "metadata": {},
   "outputs": [],
   "source": [
    "import kaiwu as kw\n",
    "kw.license.init(user_id=\"72317291601100802\", sdk_code=\"vDSsMrcS1XvoHxrKEyWGPu3y6bydtx\")\n",
    "from kaiwu.classical import SimulatedAnnealingOptimizer\n",
    "import numpy as np\n",
    "from scipy.optimize import minimize\n"
   ]
  },
  {
   "cell_type": "markdown",
   "metadata": {},
   "source": [
    "Baseline model"
   ]
  },
  {
   "cell_type": "code",
   "execution_count": 49,
   "metadata": {},
   "outputs": [
    {
     "name": "stdout",
     "output_type": "stream",
     "text": [
      "Mean Squared Error on Test Data: 5418084.88\n",
      "Predicted Demand for October: 14290.38\n"
     ]
    }
   ],
   "source": [
    "import numpy as np\n",
    "from sklearn.linear_model import LinearRegression\n",
    "from sklearn.preprocessing import PolynomialFeatures\n",
    "from sklearn.metrics import mean_squared_error\n",
    "\n",
    "# Demand data (monthly time series)\n",
    "demand = np.array([9000, 9400, 9594, 9859, 9958, 10043, 10309, 10512, 10588])\n",
    "\n",
    "# Prepare input (X) and output (y) for training\n",
    "# X will consist of lagged values (autoregressive approach)\n",
    "lags = 2  # Use the last two months to predict the next month\n",
    "X = np.array([demand[i:i + lags] for i in range(len(demand) - lags)])\n",
    "y = demand[lags:]  # Target variable is the next month's demand\n",
    "\n",
    "# Train/Test split\n",
    "train_size = int(0.8 * len(X))\n",
    "X_train, X_test = X[:train_size], X[train_size:]\n",
    "y_train, y_test = y[:train_size], y[train_size:]\n",
    "\n",
    "# Polynomial regression for more flexibility\n",
    "degree = 2  # Degree of the polynomial\n",
    "poly = PolynomialFeatures(degree)\n",
    "X_train_poly = poly.fit_transform(X_train)\n",
    "X_test_poly = poly.transform(X_test)\n",
    "\n",
    "# Train the model\n",
    "model = LinearRegression()\n",
    "model.fit(X_train_poly, y_train)\n",
    "\n",
    "# Predict on test data\n",
    "y_pred = model.predict(X_test_poly)\n",
    "\n",
    "# Calculate error metrics\n",
    "mse = mean_squared_error(y_test, y_pred)\n",
    "print(f\"Mean Squared Error on Test Data: {mse:.2f}\")\n",
    "\n",
    "# Predict the next value (October demand)\n",
    "latest_lag = demand[-lags:]  # Use the last two months as input\n",
    "next_input = poly.transform([latest_lag])  # Transform using PolynomialFeatures\n",
    "predicted_y = model.predict(next_input)\n",
    "\n",
    "print(f\"Predicted Demand for October: {predicted_y[0]:.2f}\")\n"
   ]
  },
  {
   "cell_type": "markdown",
   "metadata": {},
   "source": [
    "Baseline Model"
   ]
  },
  {
   "cell_type": "code",
   "execution_count": null,
   "metadata": {},
   "outputs": [
    {
     "data": {
      "text/plain": [
       "(-1.3954764576209415,\n",
       " 1.052336371794449,\n",
       " -0.03604914801604513,\n",
       " 10761.793384157338)"
      ]
     },
     "execution_count": 50,
     "metadata": {},
     "output_type": "execute_result"
    }
   ],
   "source": [
    "# Historical demand data (January to September)\n",
    "demand = np.array([9000, 9400, 9594, 9859, 9958, 10043, 10309, 10512, 10588])\n",
    "\n",
    "# Define AR(2) model parameters (to be optimized)\n",
    "def ar_model(params, demand):\n",
    "    c, phi1, phi2 = params\n",
    "    predicted = []\n",
    "    for t in range(2, len(demand)):\n",
    "        y_t = c + phi1 * demand[t - 1] + phi2 * demand[t - 2]\n",
    "        predicted.append(y_t)\n",
    "    return np.array(predicted)\n",
    "\n",
    "# Objective function: minimize squared error\n",
    "def objective(params, demand):\n",
    "    c, phi1, phi2 = params\n",
    "    predicted = ar_model(params, demand)\n",
    "    observed = demand[2:]  # starting from index 2 due to AR(2) model\n",
    "    error = np.sum((predicted - observed) ** 2)\n",
    "    return error\n",
    "\n",
    "# Initial guess for parameters [c, phi1, phi2]\n",
    "initial_guess = [0, 0, 0]\n",
    "\n",
    "# Solve using a classical optimizer (to later transform into QUBO logic)\n",
    "result = minimize(objective, initial_guess, args=(demand,), method='Nelder-Mead')\n",
    "c_opt, phi1_opt, phi2_opt = result.x\n",
    "\n",
    "# Predict demand for October using the optimized AR(2) model\n",
    "october_demand = c_opt + phi1_opt * demand[-1] + phi2_opt * demand[-2]\n",
    "\n",
    "c_opt, phi1_opt, phi2_opt, october_demand\n"
   ]
  },
  {
   "cell_type": "code",
   "execution_count": 51,
   "metadata": {},
   "outputs": [
    {
     "data": {
      "text/plain": [
       "6240.063117704558"
      ]
     },
     "execution_count": 51,
     "metadata": {},
     "output_type": "execute_result"
    }
   ],
   "source": [
    "# Calculate Mean Squared Error (MSE) for the optimized AR(2) model\n",
    "def calculate_mse(params, demand):\n",
    "    predicted = ar_model(params, demand)\n",
    "    observed = demand[2:]  # observed values starting from index 2\n",
    "    mse = np.mean((predicted - observed) ** 2)\n",
    "    return mse\n",
    "\n",
    "# Compute MSE for the optimized parameters\n",
    "mse = calculate_mse([c_opt, phi1_opt, phi2_opt], demand)\n",
    "mse"
   ]
  },
  {
   "cell_type": "markdown",
   "metadata": {},
   "source": [
    "Kaiwu Model"
   ]
  },
  {
   "cell_type": "code",
   "execution_count": 52,
   "metadata": {},
   "outputs": [
    {
     "name": "stderr",
     "output_type": "stream",
     "text": [
      "/var/folders/92/zd0pd5bj15qbwvj0zp4_zt540000gn/T/ipykernel_44799/1043707881.py:19: DeprecationWarning: Call to deprecated function (or staticmethod) binary. (You can use the standard function `kw.qubo.Binary`.) -- Deprecated since version 1.0.0.\n",
      "  phi1_vars = kw.qubo.ndarray(n_bits, 'phi1', kw.qubo.binary)\n",
      "/var/folders/92/zd0pd5bj15qbwvj0zp4_zt540000gn/T/ipykernel_44799/1043707881.py:20: DeprecationWarning: Call to deprecated function (or staticmethod) binary. (You can use the standard function `kw.qubo.Binary`.) -- Deprecated since version 1.0.0.\n",
      "  phi2_vars = kw.qubo.ndarray(n_bits, 'phi2', kw.qubo.binary)\n"
     ]
    },
    {
     "name": "stdout",
     "output_type": "stream",
     "text": [
      "AR(2) Coefficients: φ₁ = 0.9141, φ₂ = 0.9766\n",
      "Predicted demand for October: 10856\n"
     ]
    }
   ],
   "source": [
    "# Define the input data\n",
    "months = ['Jan', 'Feb', 'Mar', 'Apr', 'May', 'June', 'Jul', 'Aug', 'Sept']\n",
    "demands = np.array([9000, 9400, 9594, 9859, 9958, 10043, 10309, 10512, 10588])\n",
    "\n",
    "# Calculate first differences to make the series more stationary\n",
    "diff_demands = np.diff(demands)\n",
    "\n",
    "# We'll use AR(2) model, so we need to transform this into a QUBO problem\n",
    "# For each coefficient φ₁ and φ₂, we'll use 8 binary variables to represent \n",
    "# values between -1 and 1 with 2⁻⁸ precision\n",
    "\n",
    "def binary_to_float(binary_vars, min_val=-1, max_val=1):\n",
    "    \"\"\"Convert binary variables to float in range [min_val, max_val]\"\"\"\n",
    "    weights = 2.0 ** -np.arange(1, len(binary_vars) + 1)\n",
    "    return min_val + (max_val - min_val) * np.sum(weights * binary_vars)\n",
    "\n",
    "# Create QUBO variables for φ₁ and φ₂\n",
    "n_bits = 8\n",
    "phi1_vars = kw.qubo.ndarray(n_bits, 'phi1', kw.qubo.binary)\n",
    "phi2_vars = kw.qubo.ndarray(n_bits, 'phi2', kw.qubo.binary)\n",
    "\n",
    "# Construct objective function (Sum of Squared Errors)\n",
    "obj = 0\n",
    "for t in range(2, len(diff_demands)):\n",
    "    # Predicted value using AR(2) model\n",
    "    pred_t = (binary_to_float(phi1_vars) * diff_demands[t-1] + \n",
    "             binary_to_float(phi2_vars) * diff_demands[t-2])\n",
    "    \n",
    "    # Add squared error term\n",
    "    error = pred_t - diff_demands[t]\n",
    "    obj += error * error\n",
    "\n",
    "# Parse QUBO\n",
    "obj = kw.qubo.make(obj)\n",
    "\n",
    "# Convert to QUBO matrix\n",
    "qubo_matrix = kw.qubo.qubo_model_to_qubo_matrix(obj)['qubo_matrix']\n",
    "\n",
    "# Solve using simulated annealing\n",
    "worker = kw.classical.SimulatedAnnealingOptimizer(\n",
    "    initial_temperature=100,\n",
    "    alpha=0.99,\n",
    "    cutoff_temperature=0.001,\n",
    "    iterations_per_t=10,\n",
    "    size_limit=100\n",
    ")\n",
    "output = worker.solve(qubo_matrix)\n",
    "\n",
    "# Get optimal solution\n",
    "opt = kw.sampler.optimal_sampler(qubo_matrix, output, bias=0)\n",
    "best_solution = opt[0][0]\n",
    "\n",
    "# Manually create solution dictionary\n",
    "sol_dict = {}\n",
    "for i in range(n_bits):\n",
    "    sol_dict[f'phi1[{i}]'] = best_solution[i]\n",
    "    sol_dict[f'phi2[{i}]'] = best_solution[i + n_bits]\n",
    "\n",
    "# Extract coefficients from binary solutions\n",
    "phi1_binary = np.array([sol_dict[f'phi1[{i}]'] for i in range(n_bits)])\n",
    "phi2_binary = np.array([sol_dict[f'phi2[{i}]'] for i in range(n_bits)])\n",
    "\n",
    "phi1 = binary_to_float(phi1_binary)\n",
    "phi2 = binary_to_float(phi2_binary)\n",
    "\n",
    "# Predict October demand\n",
    "last_diff = demands[-1] - demands[-2]\n",
    "second_last_diff = demands[-2] - demands[-3]\n",
    "predicted_diff = phi1 * last_diff + phi2 * second_last_diff\n",
    "october_demand = demands[-1] + predicted_diff\n",
    "\n",
    "print(f\"AR(2) Coefficients: φ₁ = {phi1:.4f}, φ₂ = {phi2:.4f}\")\n",
    "print(f\"Predicted demand for October: {october_demand:.0f}\")"
   ]
  },
  {
   "cell_type": "code",
   "execution_count": 54,
   "metadata": {},
   "outputs": [
    {
     "name": "stdout",
     "output_type": "stream",
     "text": [
      "Mean Squared Error (MSE) of the AR(2) model: 72043.1868\n"
     ]
    }
   ],
   "source": [
    "# Generate predictions for the AR(2) model and calculate the MSE\n",
    "squared_errors = []  # To store squared errors for MSE calculation\n",
    "\n",
    "for t in range(2, len(diff_demands)):\n",
    "    # Predicted value using the learned AR(2) coefficients\n",
    "    predicted_diff = phi1 * diff_demands[t - 1] + phi2 * diff_demands[t - 2]\n",
    "    \n",
    "    # Actual value\n",
    "    actual_diff = diff_demands[t]\n",
    "    \n",
    "    # Compute squared error\n",
    "    squared_error = (predicted_diff - actual_diff) ** 2\n",
    "    squared_errors.append(squared_error)\n",
    "\n",
    "# Calculate the Mean Squared Error\n",
    "mse = np.mean(squared_errors)\n",
    "print(f\"Mean Squared Error (MSE) of the AR(2) model: {mse:.4f}\")"
   ]
  }
 ],
 "metadata": {
  "kernelspec": {
   "display_name": "Python 3",
   "language": "python",
   "name": "python3"
  },
  "language_info": {
   "codemirror_mode": {
    "name": "ipython",
    "version": 3
   },
   "file_extension": ".py",
   "mimetype": "text/x-python",
   "name": "python",
   "nbconvert_exporter": "python",
   "pygments_lexer": "ipython3",
   "version": "3.8.10"
  }
 },
 "nbformat": 4,
 "nbformat_minor": 2
}
